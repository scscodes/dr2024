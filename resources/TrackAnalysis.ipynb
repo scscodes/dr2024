{
 "cells": [
  {
   "cell_type": "code",
   "execution_count": 3,
   "id": "initial_id",
   "metadata": {
    "collapsed": true,
    "ExecuteTime": {
     "end_time": "2024-07-12T00:44:25.846324Z",
     "start_time": "2024-07-12T00:44:24.144724Z"
    }
   },
   "outputs": [],
   "source": [
    "import glob\n",
    "import numpy as np\n",
    "import pandas as pd\n",
    "import matplotlib.pyplot as plt\n",
    "import os.path"
   ]
  },
  {
   "cell_type": "markdown",
   "source": [
    "# Set Model and Track Data"
   ],
   "metadata": {
    "collapsed": false
   },
   "id": "dca9b637f7e50692"
  },
  {
   "cell_type": "code",
   "outputs": [],
   "source": [
    "MODEL_NAME: str = 'RE-SAC-Control'\n",
    "MODEL_DIR: str = f'../models/{MODEL_NAME}'\n",
    "MODEL_LOGS_DIR: str = f'../models/{MODEL_NAME}/logs'\n",
    "TRACKS_BASE_PATH: str = \"../tracks\""
   ],
   "metadata": {
    "collapsed": false,
    "ExecuteTime": {
     "end_time": "2024-07-12T00:44:18.315982Z",
     "start_time": "2024-07-12T00:44:18.311425Z"
    }
   },
   "id": "60c763b1083ace",
   "execution_count": 1
  },
  {
   "cell_type": "code",
   "outputs": [
    {
     "name": "stdout",
     "output_type": "stream",
     "text": [
      "Available tracks: ['Bowtie_track.npy', 'Monaco.npy', 'Oval_track.npy']\n"
     ]
    }
   ],
   "source": [
    "# Manually - *.npy files explicitly found in tracks/ directory\n",
    "available_track_files = glob.glob(f\"{TRACKS_BASE_PATH}/**.npy\")\n",
    "available_track_names = list(map(lambda x: os.path.basename(x), available_track_files))\n",
    "print('Available tracks:', available_track_names)\n"
   ],
   "metadata": {
    "collapsed": false,
    "ExecuteTime": {
     "end_time": "2024-07-12T00:44:27.214843Z",
     "start_time": "2024-07-12T00:44:27.211251Z"
    }
   },
   "id": "701055c1226aa7f5",
   "execution_count": 4
  },
  {
   "cell_type": "markdown",
   "source": [
    "## ... set: TRACK_NAME"
   ],
   "metadata": {
    "collapsed": false
   },
   "id": "f2b4a2e5eff5473b"
  },
  {
   "cell_type": "code",
   "outputs": [],
   "source": [
    "# Replace the name here with the track to analyze\n",
    "TRACK_NAME = 'Bowtie_track'"
   ],
   "metadata": {
    "collapsed": false,
    "ExecuteTime": {
     "end_time": "2024-07-11T00:51:04.612986Z",
     "start_time": "2024-07-11T00:51:04.609816Z"
    }
   },
   "id": "ea6c8722c0abc2e5",
   "execution_count": 65
  },
  {
   "cell_type": "code",
   "outputs": [
    {
     "name": "stdout",
     "output_type": "stream",
     "text": [
      "Loaded 163 waypoints\n"
     ]
    }
   ],
   "source": [
    "# Load waypoint data\n",
    "waypoints = np.load(f\"{TRACKS_BASE_PATH}/{TRACK_NAME}.npy\")"
   ],
   "metadata": {
    "collapsed": false,
    "ExecuteTime": {
     "end_time": "2024-07-11T00:51:06.202618Z",
     "start_time": "2024-07-11T00:51:06.199102Z"
    }
   },
   "id": "1fac13ae53d28d16",
   "execution_count": 66
  }
 ],
 "metadata": {
  "kernelspec": {
   "display_name": "Python 3",
   "language": "python",
   "name": "python3"
  },
  "language_info": {
   "codemirror_mode": {
    "name": "ipython",
    "version": 2
   },
   "file_extension": ".py",
   "mimetype": "text/x-python",
   "name": "python",
   "nbconvert_exporter": "python",
   "pygments_lexer": "ipython2",
   "version": "2.7.6"
  }
 },
 "nbformat": 4,
 "nbformat_minor": 5
}
