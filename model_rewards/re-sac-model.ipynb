{
 "cells": [
  {
   "cell_type": "markdown",
   "source": [
    "# Reverse Engineers - SAC algorithm - Initial Model\n",
    "\n",
    "## TLDR\n",
    "- Calculate track direction for agent orientation\n",
    "- Reward for \n",
    "- Reward for lap completion without going off the track\n",
    "- Reward for completing subsequent laps faster than previous lap\n"
   ],
   "metadata": {
    "collapsed": false
   },
   "id": "7f4566f2ffb9b40e"
  },
  {
   "cell_type": "code",
   "outputs": [],
   "source": [
    "import math"
   ],
   "metadata": {
    "collapsed": false,
    "ExecuteTime": {
     "end_time": "2024-07-09T13:18:20.405830700Z",
     "start_time": "2024-07-09T13:18:20.392146200Z"
    }
   },
   "id": "c3b2643b75b0fca2",
   "execution_count": 2
  },
  {
   "cell_type": "markdown",
   "source": [
    "# Compiled Reward Function\n",
    "### to be copy/pasted into aws"
   ],
   "metadata": {
    "collapsed": false
   },
   "id": "cb2035df71d5c578"
  },
  {
   "cell_type": "code",
   "outputs": [],
   "source": [
    "import math\n",
    "def reward_function(params):\n",
    "    \n",
    "    ############ HELPER FUNCTIONS ############\n",
    "    \n",
    "    def calculate_track_direction(waypoints, closest_waypoints):\n",
    "        next_point = waypoints[closest_waypoints[1]]\n",
    "        prev_point = waypoints[closest_waypoints[0]]\n",
    "        track_direction = math.atan2(next_point[1] - prev_point[1], next_point[0] - prev_point[0])\n",
    "        return math.degrees(track_direction)\n",
    "\n",
    "    def calculate_direction_diff(track_direction, heading):\n",
    "        direction_diff = abs(track_direction - heading)\n",
    "        if direction_diff > 180:\n",
    "            direction_diff = 360 - direction_diff\n",
    "        return direction_diff\n",
    "\n",
    "    def reward_for_lap_completion(progress, all_wheels_on_track):\n",
    "        if progress == 100 and all_wheels_on_track:\n",
    "            return 100  # Large reward for completing a lap without going off track\n",
    "        return 0\n",
    "\n",
    "    def reward_for_faster_lap(progress, steps, previous_lap_time):\n",
    "        if progress == 100:\n",
    "            current_lap_time = steps\n",
    "            if previous_lap_time and current_lap_time < previous_lap_time:\n",
    "                return 50  # Reward for completing the lap faster than the previous one\n",
    "        return 0\n",
    "\n",
    "\n",
    "    def reward_for_optimal_turn(waypoints, closest_waypoints, heading, distance_from_center, track_width):\n",
    "        # Look ahead to the next 10 waypoints\n",
    "        future_waypoints = [waypoints[(closest_waypoints[1] + i) % len(waypoints)] for i in range(1, 11)]\n",
    "    \n",
    "        # Calculate the angles of the turns\n",
    "        angles = []\n",
    "        for i in range(len(future_waypoints) - 1):\n",
    "            track_direction = calculate_track_direction(future_waypoints[i], future_waypoints[i + 1])\n",
    "            direction_diff = calculate_direction_diff(track_direction, heading)\n",
    "            angles.append(direction_diff)\n",
    "    \n",
    "        # Reward for the smallest angle turn and penalize for swinging too far wide\n",
    "        min_angle = min(angles)\n",
    "        reward = max(0, 1 - (min_angle / 180))  # Reward is higher for smaller angles\n",
    "    \n",
    "        # Penalize if the car swings too far wide\n",
    "        if distance_from_center >= (track_width / 2):\n",
    "            reward *= 0.5  # Penalize by reducing reward if the car is too far from the center\n",
    "    \n",
    "        return reward * 10  # Scale the reward\n",
    "    \n",
    "    \n",
    "    ############ READ ALL INPUT PARAMETERS ############\n",
    "    \n",
    "    all_wheels_on_track = params['all_wheels_on_track']\n",
    "    x = params['x']\n",
    "    y = params['y']\n",
    "    distance_from_center = params['distance_from_center']\n",
    "    is_left_of_center = params['is_left_of_center']\n",
    "    heading = params['heading']\n",
    "    progress = params['progress']\n",
    "    steps = params['steps']\n",
    "    speed = params['speed']\n",
    "    steering_angle = params['steering_angle']\n",
    "    track_width = params['track_width']\n",
    "    waypoints = params['waypoints']\n",
    "    closest_waypoints = params['closest_waypoints']\n",
    "    is_offtrack = params['is_offtrack']\n",
    "\n",
    "\n",
    "    ############ APPLY AND RETURN REWARD ############\n",
    "    # Initialize the reward with a typical value\n",
    "    reward = 1.0\n",
    "\n",
    "    # Calculate the track direction\n",
    "    track_direction = calculate_track_direction(waypoints, closest_waypoints)\n",
    "\n",
    "    # Calculate the direction difference\n",
    "    direction_diff = calculate_direction_diff(track_direction, heading)\n",
    "\n",
    "    # Penalize if the direction difference is too large\n",
    "    acceptable_direction_threshold = 12.5\n",
    "    if direction_diff > acceptable_direction_threshold:\n",
    "        reward *= 0.5\n",
    "\n",
    "    # Large reward for completing a lap without going off track\n",
    "    reward += reward_for_lap_completion(progress, all_wheels_on_track)\n",
    "\n",
    "    # Reward for completing the lap faster than the previous one\n",
    "    previous_lap_time = params.get('previous_lap_time', None)\n",
    "    reward += reward_for_faster_lap(progress, steps, previous_lap_time)\n",
    "\n",
    "    # Reward for optimal turning behavior\n",
    "    reward += reward_for_optimal_turn(waypoints, closest_waypoints, heading, distance_from_center, track_width)\n",
    "\n",
    "    # Penalize if the car is not on the track \n",
    "    if not all_wheels_on_track:\n",
    "        reward = 1e-3\n",
    "\n",
    "    # Ensure the reward is positive\n",
    "    reward = max(reward, 1e-3)\n",
    "\n",
    "    return float(reward)"
   ],
   "metadata": {
    "collapsed": true,
    "ExecuteTime": {
     "end_time": "2024-07-09T13:22:28.326773100Z",
     "start_time": "2024-07-09T13:22:28.323774100Z"
    }
   },
   "id": "initial_id",
   "execution_count": 4
  },
  {
   "cell_type": "code",
   "outputs": [],
   "source": [],
   "metadata": {
    "collapsed": false,
    "ExecuteTime": {
     "end_time": "2024-07-09T13:21:02.565523400Z",
     "start_time": "2024-07-09T13:21:02.560497800Z"
    }
   },
   "id": "fef35a747d78499d",
   "execution_count": 3
  }
 ],
 "metadata": {
  "kernelspec": {
   "display_name": "Python 3",
   "language": "python",
   "name": "python3"
  },
  "language_info": {
   "codemirror_mode": {
    "name": "ipython",
    "version": 2
   },
   "file_extension": ".py",
   "mimetype": "text/x-python",
   "name": "python",
   "nbconvert_exporter": "python",
   "pygments_lexer": "ipython2",
   "version": "2.7.6"
  }
 },
 "nbformat": 4,
 "nbformat_minor": 5
}
