{
 "cells": [
  {
   "cell_type": "markdown",
   "source": [
    "# Reverse Engineers - SAC algorithm - Initial Model\n",
    "\n",
    "## TLDR\n",
    "- Calculate track direction for agent orientation\n",
    "- Reward for \n",
    "- Reward for lap completion without going off the track\n",
    "- Reward for completing subsequent laps faster than previous lap\n"
   ],
   "metadata": {
    "collapsed": false
   },
   "id": "7f4566f2ffb9b40e"
  },
  {
   "cell_type": "code",
   "outputs": [],
   "source": [
    "import math"
   ],
   "metadata": {
    "collapsed": false,
    "ExecuteTime": {
     "end_time": "2024-07-09T13:18:20.405830700Z",
     "start_time": "2024-07-09T13:18:20.392146200Z"
    }
   },
   "id": "c3b2643b75b0fca2",
   "execution_count": 2
  },
  {
   "cell_type": "markdown",
   "source": [
    "# Compiled Reward Function\n",
    "\n",
    "# current\n",
    "## ... straight\n",
    "- baseline corrections are too frequent (low priority)\n",
    "\n",
    "## ... turning\n",
    "- too fast in U turns, long turns\n",
    "- does not reduce speed enough\n",
    "- attempts to recover from steering angle, no avail\n",
    "- slides out of bounds before recovery\n",
    "- turning fn has penalty for off-center, hindering optimal line discovery\n",
    "\n",
    "# todo\n",
    "- speed baseline\n",
    "    - reward progress, completion of steps in lowest possible time\n",
    "    - penalize slower-than-necessary\n",
    "- turning speed, median angle of upcoming X waypoints (w1)\n",
    "    - w1 increasing ? turning, reduce speed\n",
    "    - w1 decreasing ? straightening out, increase speed"
   ],
   "metadata": {
    "collapsed": false
   },
   "id": "cb2035df71d5c578"
  },
  {
   "cell_type": "code",
   "outputs": [],
   "source": [
    "import math\n",
    "def reward_function(params):\n",
    "    ############ INIT ############\n",
    "    reward = 1.0\n",
    "    MIN_SPEED = 0.5\n",
    "    MAX_SPEED = 2\n",
    "    STEERING_ANGLE_THRESHOLD = 15.0  #  +/- degrees\n",
    "    DIRECTION_THRESHOLD = 15.0  #  +/- degrees\n",
    "    STEP_INTERVAL = 25 \n",
    "    STEPS = 250  # update with each track\n",
    "    \n",
    "    ############ HELPER FUNCTIONS ############\n",
    "\n",
    "    def calc_track_direction(waypoints, closest_waypoints):\n",
    "        next_point = waypoints[closest_waypoints[1]]\n",
    "        prev_point = waypoints[closest_waypoints[0]]\n",
    "        track_direction = math.atan2(next_point[1] - prev_point[1], next_point[0] - prev_point[0])\n",
    "        return math.degrees(track_direction)\n",
    "\n",
    "\n",
    "    def calc_direction_diff(waypoints, closest_waypoints, heading):\n",
    "        track_direction = calc_track_direction(waypoints, closest_waypoints)\n",
    "        direction_diff = abs(track_direction - heading)\n",
    "        if direction_diff > 180:\n",
    "            direction_diff = 360 - direction_diff\n",
    "        return direction_diff\n",
    "\n",
    "\n",
    "    def calc_upcoming_angles(waypoints, closest_waypoints, heading):\n",
    "        # Look ahead to the next 5 waypoints\n",
    "        future_waypoints = [waypoints[(closest_waypoints[1] + i) % len(waypoints)] for i in range(1, 6)]\n",
    "\n",
    "        # Calculate the angles of the turns\n",
    "        angles = []\n",
    "        for i in range(len(future_waypoints) - 1):\n",
    "            track_direction = math.atan2(future_waypoints[i + 1][1] - future_waypoints[i][1], future_waypoints[i + 1][0] - future_waypoints[i][0])\n",
    "            track_direction = math.degrees(track_direction)\n",
    "            direction_diff = abs(track_direction - heading)\n",
    "            if direction_diff > 180:\n",
    "                direction_diff = 360 - direction_diff\n",
    "            angles.append(direction_diff)\n",
    "\n",
    "        return sum(angles) / len(angles)\n",
    "    \n",
    "    ############ READ ALL INPUT PARAMETERS ############\n",
    "    all_wheels_on_track = params['all_wheels_on_track']\n",
    "    x = params['x']\n",
    "    y = params['y']\n",
    "    distance_from_center = params['distance_from_center']\n",
    "    is_left_of_center = params['is_left_of_center']\n",
    "    heading = params['heading']\n",
    "    progress = params['progress']\n",
    "    steps = params['steps']\n",
    "    speed = params['speed']\n",
    "    steering_angle = params['steering_angle']\n",
    "    track_width = params['track_width']\n",
    "    waypoints = params['waypoints']\n",
    "    closest_waypoints = params['closest_waypoints']\n",
    "    is_offtrack = params['is_offtrack']\n",
    "    is_crashed = params['is_crashed']\n",
    "    ############ APPLY AND RETURN REWARD ############\n",
    "\n",
    "    # Speed\n",
    "    speed_reward = 0\n",
    "    if speed >= MIN_SPEED:\n",
    "        speed_reward += 5\n",
    "    if speed > MAX_SPEED:\n",
    "        speed_reward = -1\n",
    "    reward += speed_reward\n",
    "    \n",
    "    # Steps (step = action taken by agent)\n",
    "    step_reward = 0\n",
    "    if (steps % STEP_INTERVAL) == 0:\n",
    "        if progress >= (steps / STEPS) * 100:\n",
    "            step_reward = 20\n",
    "    reward += step_reward\n",
    "    \n",
    "    # Turning\n",
    "    turning_reward = 0\n",
    "    mean_angle = calc_upcoming_angles(waypoints, closest_waypoints, heading)\n",
    "    heading_diff = abs(heading - mean_angle)\n",
    "    if heading_diff <= 5 and distance_from_center >= (track_width / 2):\n",
    "        turning_reward = 10\n",
    "    reward += turning_reward\n",
    "\n",
    "    # Penalize excessive steering angle\n",
    "    if abs(steering_angle) > STEERING_ANGLE_THRESHOLD:\n",
    "        reward *= 0.8\n",
    "\n",
    "    # Penalize negative orientation\n",
    "    current_direction_diff = calc_direction_diff(waypoints, closest_waypoints, heading)\n",
    "    if current_direction_diff > DIRECTION_THRESHOLD:\n",
    "        reward = 1e-3\n",
    "    \n",
    "    # Penalize negative termination states\n",
    "    if is_crashed or is_offtrack:\n",
    "        reward = 1e-3\n",
    "\n",
    "    # Ensure the reward is positive\n",
    "    reward = max(reward, 1e-3)\n",
    "\n",
    "    return float(reward)"
   ],
   "metadata": {
    "collapsed": true,
    "ExecuteTime": {
     "end_time": "2024-07-09T13:22:28.326773100Z",
     "start_time": "2024-07-09T13:22:28.323774100Z"
    }
   },
   "id": "initial_id",
   "execution_count": 4
  },
  {
   "cell_type": "code",
   "outputs": [],
   "source": [],
   "metadata": {
    "collapsed": false,
    "ExecuteTime": {
     "end_time": "2024-07-09T13:21:02.565523400Z",
     "start_time": "2024-07-09T13:21:02.560497800Z"
    }
   },
   "id": "fef35a747d78499d",
   "execution_count": 3
  }
 ],
 "metadata": {
  "kernelspec": {
   "display_name": "Python 3",
   "language": "python",
   "name": "python3"
  },
  "language_info": {
   "codemirror_mode": {
    "name": "ipython",
    "version": 2
   },
   "file_extension": ".py",
   "mimetype": "text/x-python",
   "name": "python",
   "nbconvert_exporter": "python",
   "pygments_lexer": "ipython2",
   "version": "2.7.6"
  }
 },
 "nbformat": 4,
 "nbformat_minor": 5
}
